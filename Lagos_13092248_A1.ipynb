{
  "nbformat": 4,
  "nbformat_minor": 0,
  "metadata": {
    "colab": {
      "name": "Lagos_13092248_A1.ipynb",
      "version": "0.3.2",
      "provenance": [],
      "include_colab_link": true
    },
    "kernelspec": {
      "name": "python3",
      "display_name": "Python 3"
    }
  },
  "cells": [
    {
      "cell_type": "markdown",
      "metadata": {
        "id": "view-in-github",
        "colab_type": "text"
      },
      "source": [
        "<a href=\"https://colab.research.google.com/github/lagos-a1/Lagos_13092248_A1/blob/master/Lagos_13092248_A1.ipynb\" target=\"_parent\"><img src=\"https://colab.research.google.com/assets/colab-badge.svg\" alt=\"Open In Colab\"/></a>"
      ]
    },
    {
      "cell_type": "markdown",
      "metadata": {
        "id": "Fo_12l_8YlIU",
        "colab_type": "text"
      },
      "source": [
        "#Assignment 1: Understanding the Literature \n",
        "##Machine Learning\n",
        "\n",
        "\n",
        "---\n",
        "\n",
        "\n",
        "Andres Felipe Lagos Rodriguez \n",
        "13092248\n",
        "\n",
        "\n",
        "\n",
        "\n",
        "\n"
      ]
    },
    {
      "cell_type": "markdown",
      "metadata": {
        "id": "8wtxay1QZJrT",
        "colab_type": "text"
      },
      "source": [
        "#Title: \n",
        "Eigenfaces vs. Fisherfaces: Recognition Using Class Specific Linear Projection"
      ]
    },
    {
      "cell_type": "markdown",
      "metadata": {
        "id": "rF0OR9n-ZQXl",
        "colab_type": "text"
      },
      "source": [
        "##Introduction: \n",
        "\n",
        "Image recognition is one of the most studied topics in machine learning techniques due to its application in a big variety of fields. This paper aims to critique and evaluate the article Eigenfaces vs. Fisherfaces: Recognition Using Class Specific Linear Projection written by Belhumeur, Hesphana and Kriegman (1997). \n",
        " \n",
        "The evaluation has been done in different sections where the article will be analysed and critique according to knowledge in machine learning and artificial intelligence concepts. Firstly, a content section will describe the paper and its main challenge that attempts to resolve. Secondly, the innovation section, where the innovation of the article will be evaluated and criticized. \n",
        " \n",
        "Thirdly, the technical quality and the methodology will be evaluated according to the work presented to learn and predict facial images. fourthly, the applications in facial image recognition and the suggestion of further lectures in Convolutional Neural Networks (CNN) to address the challenging problem in image recognition. \n",
        " \n",
        "Finally, the presentation of the article will be evaluated, highlighting the structure and presentation of it.\n"
      ]
    },
    {
      "cell_type": "markdown",
      "metadata": {
        "id": "OFZA0qTvbxB-",
        "colab_type": "text"
      },
      "source": [
        "## Content:\n",
        "\n",
        "The authors have developed a face recognition algorithm (Fisherfaces), under variation in facial expression and lighting, that produces the lower error rate compare among three other methods of face recognition: variant of the linear subspace, the Eigenface and correlation. The comparison was done using two different databases with 490 images in total. The first database was extracted from Harvard and the second one from Yale.\n",
        " \n",
        "The algorithm uses a pattern classification method. Each pixel in a face image is translated as a coordinate in a high dimensional space. However, due face images are no longer considered as a Lambertian surface (surface that gives the impression to be uniformly bright) their characteristics cannot be longer lie in a “3D linear subspace of the high dimensional image space”,(Belhumeur, Hespanha & Kriegman 1997) because of facial expression, specularities and different regions of shadowing. Therefore, the authors rather than modelling the deviation of images from the linear subspace they linearly project face images into a subspace that will help to reduce the deviation of those regions of self-shadowing with Fisher’s Linear Discriminant (FLD) and Principal Component Analysis (PCA).\n",
        "\n",
        "Fisherfaces algorithm was implemented under a premise. Under idealized conditions, the variations in different regions of a specific class lie in a linear subspace. Therefore a class can be considered as a convex, and linearly separable. Fisherfaces algorithm is based on Fisher’s Linear Discriminant (FLD). FLD tries to select between a sample of images and each respective class in a way where the ratio of the within-class scatter and between-class is maximised. The Fisherfaces algorithm produces, even under severe variation of facial expression and lighting, well “separated classes in a low-dimensional subspace”(Belhumeur, Hespanha & Kriegman 1997, p. 712).\n",
        "\n",
        "Three different experiments were conducted with the main objective to analyse different variations that can be presented in facial images. Experimental results demonstrated that the Fisherfaces algorithm evaluated in different facial images with variation in light, facial expression and use of eyeglasses, has the lower error rate among the others algorithm implemented.\n"
      ]
    },
    {
      "cell_type": "markdown",
      "metadata": {
        "id": "eC5UVSh-caFD",
        "colab_type": "text"
      },
      "source": [
        "##Innovation:\n",
        "The research conducted by Belhumeur, Hespanha & Kriegman (1997) identified the main and challenging problems in image recognition. Furthermore, the comparison between four different algorithms at the time of the publication represented a great and sophisticated way to consolidated the initial theoretical fundaments of image recognition, that later on will be improved with the understanding and sophistication in machine learning techniques.  \n",
        "\n",
        "Firstly, the authors identified the complex problem in face recognition. The differences between an image perceived by human brains and an image perceived by a computer differ in the capacity that the human brain has to identify easily a pattern an association in a respective image, however, a computer perceives an image as a big grid of numbers where each number is represented by a pixel and a specific selection of colour. Besides, the article identified that face human recognition can change accordingly to different factors such as illumination, facial expression and use of accessories (glasses).\n",
        "\n",
        "Secondly, the comparison between the four methodologies was accurate. Starting with the less complex algorithm, nearest neighbour, that presents the basic concepts of image recognition and finalising with PCA and LDA methods. Back in the year of publication of the article, memory capacity was a big challenge, however, the authors were able to use two databases with a considerably set of images that helped to compare on different conditions the most accurate method that generated the lower error.\n",
        "\n",
        "Even though the understanding of the main problems in image recognition and the methodology implemented was precise, different considerations will need to be addressed. Firstly, the four methodologies were evaluated according to their error rates. Error rates are a useful measurement, however, it does not work well in practice. The error rate is biased if there are different numbers of items in each class. Secondly, according to Martinez (2001), PCA performs better than LDA. PCA works better when the training data nonformal sample the underlying distribution (MartInez & Kak 2001, p. 233). In image recognition and special in the domain of face, recognition is hard to know in advance the underlying distribution for different classes.\n"
      ]
    },
    {
      "cell_type": "markdown",
      "metadata": {
        "id": "9SST1uS7cqFE",
        "colab_type": "text"
      },
      "source": [
        "##Technical quality: \n",
        "\n",
        "The article presents a high quality of technical development. The selection of algorithms presented in the article have been used before in the study of facial image recognition. PCD and LDA help to transform the data into some space, in which the distance is more meaningful and facilitate solving the prediction task. With the comparison of the four algorithms and the methodology implemented was clear the study that the authors wanted to address. \n",
        " \n",
        "Firstly, the authors stated correctly their predict model. The learning set, face images labelled with the person’s identity, is split to create a model that effectively predicts the image. The model is validated with the rest of the split data followed by the evaluation of the model, finally, four different learning algorithm were used to predict the face image in the test data, that is represented by an unlabelled set of face images. \n",
        " \n",
        "Secondly, the sampling presented in the first experiment was accurate to learn the differences between the light. The selection of five different subsets with variant light helps the algorithm to learn and predict better the image. In the Extrapolation experiment, four algorithms were trained on images with near frontal illumination, however, in the interpolation experiment, four algorithms were trained on images with near frontal illumination and extreme lighting. This experiments assisted to arrive at the author’s conclusions. \n",
        " \n",
        "Thirdly, in the second experiment, the authors analysed the variation in performance of the Eigenface methodology. The performance in the PCA method varies with the number of the principal component. Thus, to analyse FLD an experiment was performed to analyse how the methods can affect the error in the prediction model. With this example is clear to see that the authors addressed different variables that could affect their solutions.\n"
      ]
    },
    {
      "cell_type": "markdown",
      "metadata": {
        "id": "mIyoZpgrcw9h",
        "colab_type": "text"
      },
      "source": [
        "## Application and X-factor: \n",
        "Hundreds of studies have been elaborated to analyse and create a better algorithm that helps to address the challenging problem of image recognition. Image recognition is a trending top in machine learning and its application has been implemented in different areas such as human-made object recognition, mobile robotics and others. With the implementation of FLD and PDA presented in the article the authors clear addressed the challenging problem of image recognition, however, new algorithms have been formulated. \n",
        " \n",
        "Convolutional neural networks (CNN) have been implemented recently in hundreds of studies in image recognition. Especially, CNN can learn features and patters directly from a set of data, making its application the most suitable algorithm for face recognition. For instance, Ramaiah, Ijjina & Mohan (2015) and Fu, Chiu & Wang (2017) implemented CNN and addressed the main problems of image recognition found by the authors, illumination and facial expression. Their work demonstrated the new advances in face recognition that has been improved due to the huge application of this topic in different fields and the investment of private and public entities to produce an algorithm that helps to enhance the actual methods. \n",
        " \n",
        "Further articles can be found in Information Technology articles, IEEE, furthermore information related to facial image recognition can be found in subjects conducted by the most prestigious universities. For example, Standford University and its free subject “Convolutional Neural Networks for Visual Recognition” are examples of the importance of this topic and its application.\n"
      ]
    },
    {
      "cell_type": "markdown",
      "metadata": {
        "id": "leLLfBpPc5hf",
        "colab_type": "text"
      },
      "source": [
        "## Presentation: \n",
        "The overall structure of the article is clear. The authors presented the main problem, different algorithms that helped to solve the problem, their methodology and the final analysis and conclusion of the study. Firstly, understanding the problem necessary to be addressed, the authors explain clearly what was their main objective centralizing the focus of the study, furthermore, the selection and explanation of how four algorithms were applicable in face recognition were detailed. \n",
        "\n",
        "Secondly, the methodology implemented was precise. The article explains clearly how the study was conducted, the databases implemented and how each image was selected to conduct the study. Three different experiments were conducted with graphs and a clear understanding of how their main problem, lighting and facial expression, will change the final image recognition in face recognition. However, the use of eyewear is presented in two different sections (3.2 and 3.3). Adding both sections or an extended clarification of how using eyewear can change final image recognition would easier to understand by the reader."
      ]
    },
    {
      "cell_type": "markdown",
      "metadata": {
        "id": "Do_4oVZHdCO-",
        "colab_type": "text"
      },
      "source": [
        "## References: \n",
        "\n",
        "\n",
        "*   Belhumeur, P.N., Hespanha, J.P. & Kriegman, D.J. 1997, 'Eigenfaces vs. Fisherfaces: Recognition Using Class Specific Linear Projection', Transactions on Pattern Analysis and Machine Intelligence, vol. 19.\n",
        "\n",
        "*   MartInez, A. & Kak, A. 2001, 'PCA versus LDA', Transactions on pattern analysis and machine learning, vol. 23. \n",
        "\n",
        "*   Ramaiah, P., Ijjina, E.P. & Mohan, K. 2015, 'Illumination invariant face recognition using convolutional neural networks', IEEE International Conference on Signal Processing, Informatics, Communication and Energy Systems.\n",
        "\n",
        "\n",
        "\n",
        "\n"
      ]
    },
    {
      "cell_type": "markdown",
      "metadata": {
        "id": "a9zqt0ujaFMj",
        "colab_type": "text"
      },
      "source": [
        "###Link: https://github.com/lagos-a1/Lagos_13092248_A1/blob/master/Lagos_13092248_A1.ipynb"
      ]
    }
  ]
}