{
  "nbformat": 4,
  "nbformat_minor": 0,
  "metadata": {
    "colab": {
      "name": "Lagos_13092248_A1.ipynb",
      "version": "0.3.2",
      "provenance": [],
      "include_colab_link": true
    },
    "kernelspec": {
      "name": "python3",
      "display_name": "Python 3"
    }
  },
  "cells": [
    {
      "cell_type": "markdown",
      "metadata": {
        "id": "view-in-github",
        "colab_type": "text"
      },
      "source": [
        "<a href=\"https://colab.research.google.com/github/lagos-a1/Lagos_13092248_A1/blob/master/Lagos_13092248_A1.ipynb\" target=\"_parent\"><img src=\"https://colab.research.google.com/assets/colab-badge.svg\" alt=\"Open In Colab\"/></a>"
      ]
    },
    {
      "cell_type": "markdown",
      "metadata": {
        "id": "Fo_12l_8YlIU",
        "colab_type": "text"
      },
      "source": [
        "#Assignment 1: Understanding the Literature \n",
        "##Machine Learning\n",
        "\n",
        "Andres Felipe Lagos Rodriguez \n",
        "13092248\n",
        "\n",
        "\n",
        "\n",
        "\n",
        "\n"
      ]
    },
    {
      "cell_type": "markdown",
      "metadata": {
        "id": "8wtxay1QZJrT",
        "colab_type": "text"
      },
      "source": [
        "#Title: \n",
        "Eigenfaces vs. Fisherfaces: Recognition Using Class Specific Linear Projection"
      ]
    },
    {
      "cell_type": "markdown",
      "metadata": {
        "id": "rF0OR9n-ZQXl",
        "colab_type": "text"
      },
      "source": [
        "##Introduction: \n",
        "\n",
        "Image recognition is one of the most studied topics in machine learning techniques due to its application in a big variety of fields. This paper aims to critique and evaluate the article Eigenfaces vs. Fisherfaces: Recognition Using Class Specific Linear Projection written by Belhumeur, Hesphana and Kriegman (1997). \n",
        " \n",
        "The evaluation has been done in different sections where the article will be analysed and critique according to knowledge in machine learning and artificial intelligence concepts. Firstly, a content section will describe the paper and its main challenge that attempts to resolve. Secondly, the innovation section, where the innovation of the article will be evaluated and criticized. \n",
        " \n",
        "Thirdly, the technical quality and the methodology will be evaluated according to the work presented to learn and predict facial images. fourthly, the applications in facial image recognition and the suggestion of further lectures in Convolutional Neural Networks (CNN) to address the challenging problem in image recognition. \n",
        " \n",
        "Finally, the presentation of the article will be evaluated, highlighting the structure and presentation of it.\n"
      ]
    },
    {
      "cell_type": "markdown",
      "metadata": {
        "id": "a9zqt0ujaFMj",
        "colab_type": "text"
      },
      "source": [
        "###Link: https://github.com/lagos-a1/Lagos_13092248_A1/blob/master/Lagos_13092248_A1.ipynb"
      ]
    }
  ]
}